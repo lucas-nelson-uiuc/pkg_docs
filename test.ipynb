{
 "cells": [
  {
   "cell_type": "markdown",
   "metadata": {},
   "source": [
    "---\n",
    "### **Testing Functionality**\n",
    "---"
   ]
  },
  {
   "cell_type": "code",
   "execution_count": 9,
   "metadata": {},
   "outputs": [],
   "source": [
    "from pkg_docs.core.generate import orchestrate_documentation\n",
    "\n",
    "\n",
    "package_name=\"tests.test_pkg\"\n",
    "\n",
    "orchestrate_documentation(\n",
    "    package_name=package_name,\n",
    "    template_filepath=\"section.md\",\n",
    "    output_filepath=f\"{package_name.replace('.', '/')}/documentation\"\n",
    ")"
   ]
  }
 ],
 "metadata": {
  "kernelspec": {
   "display_name": ".venv",
   "language": "python",
   "name": "python3"
  },
  "language_info": {
   "codemirror_mode": {
    "name": "ipython",
    "version": 3
   },
   "file_extension": ".py",
   "mimetype": "text/x-python",
   "name": "python",
   "nbconvert_exporter": "python",
   "pygments_lexer": "ipython3",
   "version": "3.10.7"
  }
 },
 "nbformat": 4,
 "nbformat_minor": 2
}
